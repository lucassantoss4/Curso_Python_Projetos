{
 "cells": [
  {
   "cell_type": "code",
   "execution_count": 1,
   "id": "0ca30a03-59f1-47f2-accb-132cd1ee2b51",
   "metadata": {},
   "outputs": [
    {
     "name": "stdin",
     "output_type": "stream",
     "text": [
      "Caixa Eletrônico\n",
      " 1 - Verificar Saldo\n",
      " 2 - Depositar Dinheiro\n",
      " 3 - Sacar Dinheiro\n",
      " 4 - Sair \n",
      "\n",
      " Escolha uma Opção(1-4):  1\n"
     ]
    },
    {
     "name": "stdout",
     "output_type": "stream",
     "text": [
      "Seu saldo é : R$ 1000.00\n"
     ]
    },
    {
     "name": "stdin",
     "output_type": "stream",
     "text": [
      "Caixa Eletrônico\n",
      " 1 - Verificar Saldo\n",
      " 2 - Depositar Dinheiro\n",
      " 3 - Sacar Dinheiro\n",
      " 4 - Sair \n",
      "\n",
      " Escolha uma Opção(1-4):  2\n",
      "Digite o valor do depósito: R$:  1500\n"
     ]
    },
    {
     "name": "stdout",
     "output_type": "stream",
     "text": [
      "Depósito de R$ 1500.000000 realizado com sucesso !\n"
     ]
    },
    {
     "name": "stdin",
     "output_type": "stream",
     "text": [
      "Caixa Eletrônico\n",
      " 1 - Verificar Saldo\n",
      " 2 - Depositar Dinheiro\n",
      " 3 - Sacar Dinheiro\n",
      " 4 - Sair \n",
      "\n",
      " Escolha uma Opção(1-4):  1\n"
     ]
    },
    {
     "name": "stdout",
     "output_type": "stream",
     "text": [
      "Seu saldo é : R$ 2500.00\n"
     ]
    },
    {
     "name": "stdin",
     "output_type": "stream",
     "text": [
      "Caixa Eletrônico\n",
      " 1 - Verificar Saldo\n",
      " 2 - Depositar Dinheiro\n",
      " 3 - Sacar Dinheiro\n",
      " 4 - Sair \n",
      "\n",
      " Escolha uma Opção(1-4):  3\n",
      "Digite o valor do saque R$:  60000\n"
     ]
    },
    {
     "name": "stdout",
     "output_type": "stream",
     "text": [
      "Valor do saque inválido ou saldo insuficiente\n"
     ]
    },
    {
     "name": "stdin",
     "output_type": "stream",
     "text": [
      "Caixa Eletrônico\n",
      " 1 - Verificar Saldo\n",
      " 2 - Depositar Dinheiro\n",
      " 3 - Sacar Dinheiro\n",
      " 4 - Sair \n",
      "\n",
      " Escolha uma Opção(1-4):  3\n",
      "Digite o valor do saque R$:  1500\n"
     ]
    },
    {
     "name": "stdout",
     "output_type": "stream",
     "text": [
      "Saque realizado com sucesso !\n"
     ]
    },
    {
     "name": "stdin",
     "output_type": "stream",
     "text": [
      "Caixa Eletrônico\n",
      " 1 - Verificar Saldo\n",
      " 2 - Depositar Dinheiro\n",
      " 3 - Sacar Dinheiro\n",
      " 4 - Sair \n",
      "\n",
      " Escolha uma Opção(1-4):  1\n"
     ]
    },
    {
     "name": "stdout",
     "output_type": "stream",
     "text": [
      "Seu saldo é : R$ 1000.00\n"
     ]
    },
    {
     "name": "stdin",
     "output_type": "stream",
     "text": [
      "Caixa Eletrônico\n",
      " 1 - Verificar Saldo\n",
      " 2 - Depositar Dinheiro\n",
      " 3 - Sacar Dinheiro\n",
      " 4 - Sair \n",
      "\n",
      " Escolha uma Opção(1-4):  4\n"
     ]
    },
    {
     "name": "stdout",
     "output_type": "stream",
     "text": [
      "Obrigado por utilizar o nosso Serviço!\n"
     ]
    }
   ],
   "source": [
    "\n",
    "Continuar = True\n",
    "saldo = 1000\n",
    "while Continuar :\n",
    "     \n",
    "    opcao = int(input(\"Caixa Eletrônico\\n 1 - Verificar Saldo\\n 2 - Depositar Dinheiro\\n 3 - Sacar Dinheiro\\n 4 - Sair \\n\\n Escolha uma Opção(1-4): \"  ))\n",
    "   \n",
    "    if opcao == 1:\n",
    "        print(f\"Seu saldo é : R$ {saldo:.2f}\")\n",
    "    elif opcao == 2:\n",
    "        deposito = int(input(\"Digite o valor do depósito: R$: \"))\n",
    "        print(f\"Depósito de R$ {deposito:2f} realizado com sucesso !\")\n",
    "        saldo += deposito\n",
    "\n",
    "    elif opcao == 3:\n",
    "        saque = int(input(\"Digite o valor do saque R$: \"))\n",
    "        if saque > saldo:\n",
    "            print(\"Valor do saque inválido ou saldo insuficiente\")\n",
    "        else:\n",
    "            saldo -=saque\n",
    "            print(\"Saque realizado com sucesso !\")\n",
    "\n",
    "    elif opcao == 4:\n",
    "        print(\"Obrigado por utilizar o nosso Serviço!\")\n",
    "        Continuar = False\n",
    "        \n"
   ]
  },
  {
   "cell_type": "code",
   "execution_count": 8,
   "id": "7ac09b53-3ea7-4c81-8ed7-91e348c9a8cc",
   "metadata": {},
   "outputs": [
    {
     "name": "stdout",
     "output_type": "stream",
     "text": [
      "['L', 'c', 's', ' ', 'S', 'n', 't', 's']\n"
     ]
    }
   ],
   "source": [
    "texto = \"Lucas Santos\"\n",
    "\n",
    "consoantes = [cons for cons in texto if cons.lower() not in \"aeiou\"]\n",
    "\n",
    "print(consoantes)"
   ]
  },
  {
   "cell_type": "code",
   "execution_count": null,
   "id": "5f8d3a59-63c3-40fa-bc59-eb88ace54a99",
   "metadata": {},
   "outputs": [],
   "source": []
  }
 ],
 "metadata": {
  "kernelspec": {
   "display_name": "Python 3 (ipykernel)",
   "language": "python",
   "name": "python3"
  },
  "language_info": {
   "codemirror_mode": {
    "name": "ipython",
    "version": 3
   },
   "file_extension": ".py",
   "mimetype": "text/x-python",
   "name": "python",
   "nbconvert_exporter": "python",
   "pygments_lexer": "ipython3",
   "version": "3.12.4"
  }
 },
 "nbformat": 4,
 "nbformat_minor": 5
}
